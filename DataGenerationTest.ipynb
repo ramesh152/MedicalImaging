{
 "cells": [
  {
   "cell_type": "code",
   "execution_count": 1,
   "metadata": {},
   "outputs": [
    {
     "name": "stderr",
     "output_type": "stream",
     "text": [
      "/home/ramesh/anaconda3/lib/python3.6/site-packages/h5py/__init__.py:36: FutureWarning: Conversion of the second argument of issubdtype from `float` to `np.floating` is deprecated. In future, it will be treated as `np.float64 == np.dtype(float).type`.\n",
      "  from ._conv import register_converters as _register_converters\n"
     ]
    }
   ],
   "source": [
    "import numpy as np\n",
    "import nibabel as nib\n",
    "import os\n",
    "import matplotlib.pyplot as plt\n",
    "from glob import glob\n",
    "%matplotlib inline"
   ]
  },
  {
   "cell_type": "code",
   "execution_count": 13,
   "metadata": {},
   "outputs": [],
   "source": [
    "data_path = '/home/ramesh/Desktop/WS/DecathalonDataset/'\n",
    "#data_path ='/home/ramesh/Desktop/IIITB/testData/'\n",
    "#data_path='/home/ramesh/Desktop/WS/codeUpdate/basic_unet_example/data/'\n",
    "task =  'Task04_Hippocampus'# [x for x in os.listdir(data_path) if x.startswith('Task')]"
   ]
  },
  {
   "cell_type": "code",
   "execution_count": 14,
   "metadata": {},
   "outputs": [
    {
     "name": "stdout",
     "output_type": "stream",
     "text": [
      "Task:  Task04_Hippocampus\n",
      "path_tr:  /home/ramesh/Desktop/WS/DecathalonDataset/Task04_Hippocampus/imagesTr\n",
      "path_tr_label:  /home/ramesh/Desktop/WS/DecathalonDataset/Task04_Hippocampus/labelsTr\n",
      "num_train = 260, num_test = 130\n",
      "Image dimensions:\n",
      "Train:\n",
      "(33, 50, 29)\n",
      "(35, 53, 36)\n",
      "(35, 50, 36)\n",
      "(33, 44, 42)\n",
      "(35, 52, 34)\n",
      "Test:\n",
      "(34, 52, 35)\n",
      "(39, 47, 36)\n",
      "(38, 49, 31)\n",
      "(33, 48, 37)\n",
      "(37, 51, 31)\n"
     ]
    }
   ],
   "source": [
    "print('Task: ', task)\n",
    "    \n",
    "# Paths\n",
    "path_tr = data_path+task+'/imagesTr'\n",
    "path_tr_label = data_path+task+'/labelsTr'\n",
    "path_ts = data_path+task+'/imagesTs'\n",
    "print('path_tr: ', path_tr)\n",
    "print('path_tr_label: ', path_tr_label)\n",
    "\n",
    "imglist_tr = glob(path_tr+'/*.gz')\n",
    "imglist_tr_label = glob(path_tr_label+'/*.gz')\n",
    "imglist_ts = glob(path_ts+'/*.gz')\n",
    "print('num_train = {}, num_test = {}'.format(len(imglist_tr), len(imglist_ts)))\n",
    "print('Image dimensions:')\n",
    "print('Train:')\n",
    "    \n",
    "# Dimensions\n",
    "for img_name in imglist_tr[:5]:\n",
    "    img = nib.load(img_name)\n",
    "    print(img.shape)\n",
    "print('Test:')\n",
    "\n",
    "for img_name in imglist_ts[:5]:\n",
    "    img = nib.load(img_name)\n",
    "    print(img.shape)"
   ]
  },
  {
   "cell_type": "code",
   "execution_count": 15,
   "metadata": {},
   "outputs": [
    {
     "name": "stdout",
     "output_type": "stream",
     "text": [
      " z_min  24   z_max  47\n"
     ]
    }
   ],
   "source": [
    "z_min = 999\n",
    "z_max = -1\n",
    "for img_name in imglist_tr:\n",
    "    img = nib.load(img_name)\n",
    "    if img.shape[2] > z_max:\n",
    "         z_max = img.shape[2]\n",
    "    elif img.shape[2] < z_min:\n",
    "         z_min = img.shape[2]\n",
    "    #print(img.shape)\n",
    "    \n",
    "print(\" z_min \",z_min,\"  z_max \", z_max)    "
   ]
  },
  {
   "cell_type": "code",
   "execution_count": 16,
   "metadata": {},
   "outputs": [],
   "source": [
    "def getImageResolutionRange(data_root,task):\n",
    "    z_min = 999\n",
    "    z_max = -1\n",
    "    x_min = 999\n",
    "    x_max = -1\n",
    "    y_min = 999\n",
    "    y_max = -1\n",
    "    \n",
    "    path_tr = data_root+task+'/imagesTr'\n",
    "    path_tr_label = data_root+task+'/labelsTr'\n",
    "    path_ts = data_root+task+'/imagesTs'\n",
    "    \n",
    "    imglist_tr = glob(path_tr+'/*.gz')\n",
    "    imglist_tr_label = glob(path_tr_label+'/*.gz')\n",
    "    imglist_ts = glob(path_ts+'/*.gz')\n",
    "    \n",
    "    imglist_iteratr=[]\n",
    "    imglist_iteratr.append(imglist_tr)\n",
    "    imglist_iteratr.append(imglist_tr_label)\n",
    "    imglist_iteratr.append(imglist_ts)\n",
    "    \n",
    "    print('num_train = {}, num_test = {}'.format(len(imglist_tr), len(imglist_ts)))\n",
    "    \n",
    "    # Dimensions\n",
    "    for img_name in imglist_tr[:5]:\n",
    "        img = nib.load(img_name)\n",
    "        print(img.shape)\n",
    "    print('Test:')\n",
    "\n",
    "    for img_name in imglist_ts[:5]:\n",
    "        img = nib.load(img_name)\n",
    "        print(img.shape)\n",
    "    \n",
    "    print('Image dimensions:')\n",
    "    #print('Train:')\n",
    "    \n",
    "    for imglist in imglist_iteratr:\n",
    "        for img_name in imglist:\n",
    "            img = nib.load(img_name)\n",
    "        \n",
    "            if img.shape[0] > x_max:\n",
    "                 x_max = img.shape[0]\n",
    "            elif img.shape[0] < x_min:\n",
    "                 x_min = img.shape[0]\n",
    "\n",
    "            if img.shape[1] > y_max:\n",
    "                 y_max = img.shape[1]\n",
    "            elif img.shape[1] < y_min:\n",
    "                 y_min = img.shape[1] \n",
    "\n",
    "            if img.shape[2] > z_max:\n",
    "                 z_max = img.shape[2]\n",
    "            elif img.shape[2] < z_min:\n",
    "                 z_min = img.shape[2]        \n",
    "        print(\" For images in : \",)\n",
    "        print(\" x_min \",x_min,\"  x_max \", x_max)   \n",
    "        print(\" y_min \",y_min,\"  y_max \", y_max) \n",
    "        print(\" z_min \",z_min,\"  z_max \", z_max)    "
   ]
  },
  {
   "cell_type": "code",
   "execution_count": 17,
   "metadata": {},
   "outputs": [],
   "source": [
    "def getImageResolutionRange(data_root,task):\n",
    "    \n",
    "    path_tr = data_root+task+'/imagesTr'\n",
    "    path_tr_label = data_root+task+'/labelsTr'\n",
    "    path_ts = data_root+task+'/imagesTs'\n",
    "    \n",
    "    imglist_tr = glob(path_tr+'/*.gz')\n",
    "    imglist_tr_label = glob(path_tr_label+'/*.gz')\n",
    "    imglist_ts = glob(path_ts+'/*.gz')\n",
    "    \n",
    "    imglist_iteratr=[]\n",
    "    imglist_iteratr.append(imglist_tr)\n",
    "    imglist_iteratr.append(imglist_tr_label)\n",
    "    imglist_iteratr.append(imglist_ts)\n",
    "    \n",
    "    print('num_train = {}, num_test = {}'.format(len(imglist_tr), len(imglist_ts)))\n",
    "    \n",
    "    print(\"Sample Dimensions\")\n",
    "    print('Test:')\n",
    "    for img_name in imglist_tr[:5]:\n",
    "        img = nib.load(img_name)\n",
    "        print(img.shape)\n",
    "    \n",
    "    print('Test:')\n",
    "    for img_name in imglist_ts[:5]:\n",
    "        img = nib.load(img_name)\n",
    "        print(img.shape)\n",
    "        \n",
    "    print('Image dimensions for task :',)\n",
    "    #print('Train:')\n",
    "    \n",
    "    for i,imglist in enumerate(imglist_iteratr):\n",
    "        z_min = 999\n",
    "        z_max = -1\n",
    "        x_min = 999\n",
    "        x_max = -1\n",
    "        y_min = 999\n",
    "        y_max = -1\n",
    "        for img_name in imglist:\n",
    "            img = nib.load(img_name)\n",
    "        \n",
    "            if img.shape[0] > x_max:\n",
    "                 x_max = img.shape[0]\n",
    "            elif img.shape[0] < x_min:\n",
    "                 x_min = img.shape[0]\n",
    "\n",
    "            if img.shape[1] > y_max:\n",
    "                 y_max = img.shape[1]\n",
    "            elif img.shape[1] < y_min:\n",
    "                 y_min = img.shape[1] \n",
    "\n",
    "            if img.shape[2] > z_max:\n",
    "                 z_max = img.shape[2]\n",
    "            elif img.shape[2] < z_min:\n",
    "                 z_min = img.shape[2]        \n",
    "        print(\" For images in : \",i)\n",
    "        print(\" x_min \",x_min,\"  x_max \", x_max)   \n",
    "        print(\" y_min \",y_min,\"  y_max \", y_max) \n",
    "        print(\" z_min \",z_min,\"  z_max \", z_max)    "
   ]
  },
  {
   "cell_type": "code",
   "execution_count": 19,
   "metadata": {},
   "outputs": [],
   "source": [
    "data_path = '/home/ramesh/Desktop/WS/DecathalonDataset/'\n",
    "#data_path='/home/ramesh/Desktop/WS/codeUpdate/basic_unet_example/data/'\n",
    "#data_path ='/home/ramesh/Desktop/IIITB/testData/'\n",
    "task1 =  'Task04_Hippocampus'# [x for x in os.listdir(data_path) if x.startswith('Task')]"
   ]
  },
  {
   "cell_type": "code",
   "execution_count": null,
   "metadata": {},
   "outputs": [],
   "source": []
  },
  {
   "cell_type": "markdown",
   "metadata": {},
   "source": [
    "getImageResolutionRange(data_path,task1)"
   ]
  },
  {
   "cell_type": "code",
   "execution_count": 20,
   "metadata": {},
   "outputs": [
    {
     "name": "stdout",
     "output_type": "stream",
     "text": [
      "num_train = 281, num_test = 139\n",
      "Sample Dimensions\n",
      "Test:\n",
      "(512, 512, 121)\n",
      "(512, 512, 101)\n",
      "(512, 512, 96)\n",
      "(512, 512, 73)\n",
      "(512, 512, 96)\n",
      "Test:\n",
      "(512, 512, 53)\n",
      "(512, 512, 103)\n",
      "(512, 512, 57)\n",
      "(512, 512, 101)\n",
      "(512, 512, 96)\n",
      "Image dimensions for task :\n",
      " For images in :  0\n",
      " x_min  512   x_max  512\n",
      " y_min  512   y_max  512\n",
      " z_min  37   z_max  751\n",
      " For images in :  1\n",
      " x_min  512   x_max  512\n",
      " y_min  512   y_max  512\n",
      " z_min  37   z_max  751\n",
      " For images in :  2\n",
      " x_min  512   x_max  512\n",
      " y_min  512   y_max  512\n",
      " z_min  42   z_max  686\n"
     ]
    }
   ],
   "source": [
    "task3 =  'Task07_Pancreas'\n",
    "getImageResolutionRange(data_path,task3)"
   ]
  },
  {
   "cell_type": "code",
   "execution_count": 21,
   "metadata": {},
   "outputs": [
    {
     "name": "stdout",
     "output_type": "stream",
     "text": [
      "num_train = 484, num_test = 266\n",
      "Sample Dimensions\n",
      "Test:\n",
      "(240, 240, 155, 4)\n",
      "(240, 240, 155, 4)\n",
      "(240, 240, 155, 4)\n",
      "(240, 240, 155, 4)\n",
      "(240, 240, 155, 4)\n",
      "Test:\n",
      "(240, 240, 155, 4)\n",
      "(240, 240, 155, 4)\n",
      "(240, 240, 155, 4)\n",
      "(240, 240, 155, 4)\n",
      "(240, 240, 155, 4)\n",
      "Image dimensions for task :\n",
      " For images in :  0\n",
      " x_min  240   x_max  240\n",
      " y_min  240   y_max  240\n",
      " z_min  155   z_max  155\n",
      " For images in :  1\n",
      " x_min  240   x_max  240\n",
      " y_min  240   y_max  240\n",
      " z_min  155   z_max  155\n",
      " For images in :  2\n",
      " x_min  240   x_max  240\n",
      " y_min  240   y_max  240\n",
      " z_min  155   z_max  155\n"
     ]
    }
   ],
   "source": [
    "task2 =  'Task01_BrainTumour'\n",
    "getImageResolutionRange(data_path,task2)"
   ]
  },
  {
   "cell_type": "code",
   "execution_count": 22,
   "metadata": {},
   "outputs": [
    {
     "name": "stdout",
     "output_type": "stream",
     "text": [
      "num_train = 20, num_test = 10\n",
      "Sample Dimensions\n",
      "Test:\n",
      "(320, 320, 100)\n",
      "(320, 320, 90)\n",
      "(320, 320, 122)\n",
      "(320, 320, 110)\n",
      "(320, 320, 100)\n",
      "Test:\n",
      "(320, 320, 110)\n",
      "(320, 320, 140)\n",
      "(320, 320, 100)\n",
      "(400, 400, 180)\n",
      "(320, 320, 137)\n",
      "Image dimensions for task :\n",
      " For images in :  0\n",
      " x_min  320   x_max  320\n",
      " y_min  320   y_max  320\n",
      " z_min  90   z_max  130\n",
      " For images in :  1\n",
      " x_min  320   x_max  320\n",
      " y_min  320   y_max  320\n",
      " z_min  90   z_max  130\n",
      " For images in :  2\n",
      " x_min  320   x_max  400\n",
      " y_min  320   y_max  400\n",
      " z_min  100   z_max  180\n"
     ]
    }
   ],
   "source": [
    "task2 =  'Task02_Heart'\n",
    "getImageResolutionRange(data_path,task2)"
   ]
  },
  {
   "cell_type": "code",
   "execution_count": 23,
   "metadata": {},
   "outputs": [
    {
     "name": "stdout",
     "output_type": "stream",
     "text": [
      "num_train = 63, num_test = 32\n",
      "Sample Dimensions\n",
      "Test:\n",
      "(512, 512, 376)\n",
      "(512, 512, 277)\n",
      "(512, 512, 329)\n",
      "(512, 512, 126)\n",
      "(512, 512, 112)\n",
      "Test:\n",
      "(512, 512, 244)\n",
      "(512, 512, 373)\n",
      "(512, 512, 271)\n",
      "(512, 512, 565)\n",
      "(512, 512, 300)\n",
      "Image dimensions for task :\n",
      " For images in :  0\n",
      " x_min  512   x_max  512\n",
      " y_min  512   y_max  512\n",
      " z_min  112   z_max  636\n",
      " For images in :  1\n",
      " x_min  512   x_max  512\n",
      " y_min  512   y_max  512\n",
      " z_min  112   z_max  636\n",
      " For images in :  2\n",
      " x_min  512   x_max  512\n",
      " y_min  512   y_max  512\n",
      " z_min  119   z_max  580\n"
     ]
    }
   ],
   "source": [
    "task2 =  'Task06_Lung'\n",
    "getImageResolutionRange(data_path,task2)"
   ]
  },
  {
   "cell_type": "code",
   "execution_count": 24,
   "metadata": {},
   "outputs": [
    {
     "name": "stdout",
     "output_type": "stream",
     "text": [
      "num_train = 260, num_test = 130\n",
      "Sample Dimensions\n",
      "Test:\n",
      "(33, 50, 29)\n",
      "(35, 53, 36)\n",
      "(35, 50, 36)\n",
      "(33, 44, 42)\n",
      "(35, 52, 34)\n",
      "Test:\n",
      "(34, 52, 35)\n",
      "(39, 47, 36)\n",
      "(38, 49, 31)\n",
      "(33, 48, 37)\n",
      "(37, 51, 31)\n",
      "Image dimensions for task :\n",
      " For images in :  0\n",
      " x_min  31   x_max  43\n",
      " y_min  40   y_max  59\n",
      " z_min  24   z_max  47\n",
      " For images in :  1\n",
      " x_min  31   x_max  43\n",
      " y_min  40   y_max  59\n",
      " z_min  24   z_max  47\n",
      " For images in :  2\n",
      " x_min  30   x_max  40\n",
      " y_min  40   y_max  58\n",
      " z_min  25   z_max  46\n"
     ]
    }
   ],
   "source": [
    "task2 =  'Task04_Hippocampus'\n",
    "getImageResolutionRange(data_path,task2)"
   ]
  },
  {
   "cell_type": "code",
   "execution_count": 25,
   "metadata": {},
   "outputs": [
    {
     "name": "stdout",
     "output_type": "stream",
     "text": [
      "num_train = 41, num_test = 20\n",
      "Sample Dimensions\n",
      "Test:\n",
      "(512, 512, 94)\n",
      "(512, 512, 77)\n",
      "(512, 512, 97)\n",
      "(512, 512, 50)\n",
      "(512, 512, 61)\n",
      "Test:\n",
      "(512, 512, 48)\n",
      "(512, 512, 36)\n",
      "(512, 512, 102)\n",
      "(512, 512, 98)\n",
      "(512, 512, 103)\n",
      "Image dimensions for task :\n",
      " For images in :  0\n",
      " x_min  512   x_max  512\n",
      " y_min  512   y_max  512\n",
      " z_min  31   z_max  168\n",
      " For images in :  1\n",
      " x_min  512   x_max  512\n",
      " y_min  512   y_max  512\n",
      " z_min  31   z_max  168\n",
      " For images in :  2\n",
      " x_min  512   x_max  512\n",
      " y_min  512   y_max  512\n",
      " z_min  34   z_max  157\n"
     ]
    }
   ],
   "source": [
    "task2 =  'Task09_Spleen'\n",
    "getImageResolutionRange(data_path,task2)"
   ]
  },
  {
   "cell_type": "code",
   "execution_count": 26,
   "metadata": {},
   "outputs": [
    {
     "name": "stdout",
     "output_type": "stream",
     "text": [
      "num_train = 131, num_test = 70\n",
      "Sample Dimensions\n",
      "Test:\n",
      "(512, 512, 276)\n",
      "(512, 512, 217)\n",
      "(512, 512, 427)\n",
      "(512, 512, 771)\n",
      "(512, 512, 647)\n",
      "Test:\n",
      "(512, 512, 565)\n",
      "(512, 512, 89)\n",
      "(512, 512, 147)\n",
      "(512, 512, 89)\n",
      "(512, 512, 659)\n",
      "Image dimensions for task :\n",
      " For images in :  0\n",
      " x_min  512   x_max  512\n",
      " y_min  512   y_max  512\n",
      " z_min  74   z_max  987\n",
      " For images in :  1\n",
      " x_min  512   x_max  512\n",
      " y_min  512   y_max  512\n",
      " z_min  74   z_max  987\n",
      " For images in :  2\n",
      " x_min  512   x_max  512\n",
      " y_min  79   y_max  512\n",
      " z_min  42   z_max  1026\n"
     ]
    }
   ],
   "source": [
    "task2 =  'Task03_Liver'\n",
    "getImageResolutionRange(data_path,task2)"
   ]
  },
  {
   "cell_type": "code",
   "execution_count": 13,
   "metadata": {},
   "outputs": [
    {
     "ename": "NameError",
     "evalue": "name 'tasks' is not defined",
     "output_type": "error",
     "traceback": [
      "\u001b[0;31m---------------------------------------------------------------------------\u001b[0m",
      "\u001b[0;31mNameError\u001b[0m                                 Traceback (most recent call last)",
      "\u001b[0;32m<ipython-input-13-ccd1327cd4ad>\u001b[0m in \u001b[0;36m<module>\u001b[0;34m\u001b[0m\n\u001b[1;32m      1\u001b[0m \u001b[0;34m\u001b[0m\u001b[0m\n\u001b[1;32m      2\u001b[0m \u001b[0;31m#for task in tasks:\u001b[0m\u001b[0;34m\u001b[0m\u001b[0;34m\u001b[0m\u001b[0;34m\u001b[0m\u001b[0m\n\u001b[0;32m----> 3\u001b[0;31m \u001b[0;32mif\u001b[0m \u001b[0mtasks\u001b[0m \u001b[0;32mis\u001b[0m \u001b[0;32mnot\u001b[0m \u001b[0;32mNone\u001b[0m\u001b[0;34m:\u001b[0m\u001b[0;34m\u001b[0m\u001b[0;34m\u001b[0m\u001b[0m\n\u001b[0m\u001b[1;32m      4\u001b[0m     \u001b[0mprint\u001b[0m\u001b[0;34m(\u001b[0m\u001b[0;34m'Task: '\u001b[0m\u001b[0;34m,\u001b[0m \u001b[0mtasks\u001b[0m\u001b[0;34m)\u001b[0m\u001b[0;34m\u001b[0m\u001b[0;34m\u001b[0m\u001b[0m\n\u001b[1;32m      5\u001b[0m \u001b[0;34m\u001b[0m\u001b[0m\n",
      "\u001b[0;31mNameError\u001b[0m: name 'tasks' is not defined"
     ]
    }
   ],
   "source": [
    "\n",
    "#for task in tasks:\n",
    "if tasks is not None:\n",
    "    print('Task: ', tasks)\n",
    "    \n",
    "    # Paths\n",
    "    path_tr = data_path+task+'/imagesTr'\n",
    "    path_tr_label = data_path+task+'/labelsTr'\n",
    "    path_ts = data_path+task+'/imagesTs'\n",
    "    imglist_tr = glob(path_tr+'/*.gz')\n",
    "    imglist_tr_label = glob(path_tr_label+'/*.gz')\n",
    "    imglist_ts = glob(path_ts+'/*.gz')\n",
    "    print('num_train = {}, num_test = {}'.format(len(imglist_tr), len(imglist_ts)))\n",
    "    print('Image dimensions:')\n",
    "    print('Train:')\n",
    "    \n",
    "    # Dimensions\n",
    "    for img_name in imglist_tr[:5]:\n",
    "        img = nib.load(img_name)\n",
    "        print(img.shape)\n",
    "    print('Test:')\n",
    "    for img_name in imglist_ts[:5]:\n",
    "        img = nib.load(img_name)\n",
    "        print(img.shape)\n",
    "    \n",
    "    # Find number of sub labels\n",
    "    \n",
    "    # Images\n",
    "    img = nib.load(imglist_tr[0]).get_fdata()\n",
    "    label = nib.load(imglist_tr_label[0]).get_fdata()\n",
    "    print('Image Min-Max values: Image={},{} and label={},{}'.format(img.max(), img.min(), label.max(), label.min()))\n",
    "    print('Number of subclasses = ', int(label.max())+1)\n",
    "    if task=='Task05_Prostate':\n",
    "        ax = plt.subplot('131')\n",
    "        ax.imshow(img[:,:,10,0], cmap='gray')\n",
    "        ax.set_title('Image channel 1')\n",
    "        ax = plt.subplot('132')\n",
    "        ax.imshow(img[:,:,10,1], cmap='gray')\n",
    "        ax.set_title('Image channel 2')\n",
    "        ax = plt.subplot('133')\n",
    "        ax.imshow(label[:,:,10], cmap='gray')\n",
    "        ax.set_title('Segmentation Mask')\n",
    "        plt.show()\n",
    "    else:\n",
    "        ax = plt.subplot('121')\n",
    "        ax.imshow(img[:,:,10], cmap='gray')\n",
    "        ax.set_title('Input image')\n",
    "        ax = plt.subplot('122')\n",
    "        ax.imshow(label[:,:,10], cmap='gray')\n",
    "        ax.set_title('Segmentation Mask')\n",
    "        plt.show()\n",
    "        print('\\n')"
   ]
  },
  {
   "cell_type": "code",
   "execution_count": 1,
   "metadata": {},
   "outputs": [
    {
     "ename": "NameError",
     "evalue": "name 'UNetExperiment' is not defined",
     "output_type": "error",
     "traceback": [
      "\u001b[0;31m---------------------------------------------------------------------------\u001b[0m",
      "\u001b[0;31mNameError\u001b[0m                                 Traceback (most recent call last)",
      "\u001b[0;32m<ipython-input-1-42ed2148daf4>\u001b[0m in \u001b[0;36m<module>\u001b[0;34m()\u001b[0m\n\u001b[0;32m----> 1\u001b[0;31m exp = UNetExperiment(config=c, name='unet_experiment', n_epochs=c.n_epochs,\n\u001b[0m\u001b[1;32m      2\u001b[0m                          seed=42, append_rnd_to_name=c.append_rnd_string, visdomlogger_kwargs={\"auto_start\": c.start_visdom})\n",
      "\u001b[0;31mNameError\u001b[0m: name 'UNetExperiment' is not defined"
     ]
    }
   ],
   "source": [
    "exp = UNetExperiment(config=c, name='unet_experiment', n_epochs=c.n_epochs,\n",
    "                         seed=42, append_rnd_to_name=c.append_rnd_string, visdomlogger_kwargs={\"auto_start\": c.start_visdom})"
   ]
  },
  {
   "cell_type": "code",
   "execution_count": null,
   "metadata": {},
   "outputs": [],
   "source": []
  },
  {
   "cell_type": "code",
   "execution_count": null,
   "metadata": {},
   "outputs": [],
   "source": []
  }
 ],
 "metadata": {
  "kernelspec": {
   "display_name": "Python 3",
   "language": "python",
   "name": "python3"
  },
  "language_info": {
   "codemirror_mode": {
    "name": "ipython",
    "version": 3
   },
   "file_extension": ".py",
   "mimetype": "text/x-python",
   "name": "python",
   "nbconvert_exporter": "python",
   "pygments_lexer": "ipython3",
   "version": "3.6.5"
  }
 },
 "nbformat": 4,
 "nbformat_minor": 2
}
